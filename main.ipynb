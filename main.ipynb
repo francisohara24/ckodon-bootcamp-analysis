{
 "cells": [
  {
   "cell_type": "code",
   "execution_count": 1,
   "metadata": {},
   "outputs": [
    {
     "name": "stdout",
     "output_type": "stream",
     "text": [
      "Total number of students: 367\n"
     ]
    }
   ],
   "source": [
    "import pandas as pd\n",
    "\n",
    "#import students\n",
    "students = pd.read_excel(\"./data/Ckodon SAT Bootcamp Survey (Responses).xlsx\")\n",
    "n_students = students.shape[0]\n",
    "\n",
    "# test import\n",
    "# print(students.head())  \n",
    "print(\"Total number of students:\", n_students)"
   ]
  },
  {
   "cell_type": "code",
   "execution_count": 24,
   "metadata": {},
   "outputs": [
    {
     "name": "stdout",
     "output_type": "stream",
     "text": [
      "Total number of SHS students: 23\n"
     ]
    }
   ],
   "source": [
    "# extract all SHS students\n",
    "shs = students[students[\"Are you currently enrolled at a Senior High School (SHS)?\"]==\"Yes\"]\n",
    "n_shs =  shs.shape[0]\n",
    "print(\"Total number of SHS students:\", n_shs)"
   ]
  },
  {
   "cell_type": "code",
   "execution_count": 28,
   "metadata": {},
   "outputs": [
    {
     "name": "stdout",
     "output_type": "stream",
     "text": [
      "Total number of university students: 276\n"
     ]
    }
   ],
   "source": [
    "# extract all university students\n",
    "univ = students[students[\"Are you currently enrolled at a university?\"]==\"Yes\"]\n",
    "n_univ = univ.shape[0]\n",
    "print(\"Total number of university students:\", n_univ)"
   ]
  },
  {
   "cell_type": "code",
   "execution_count": 71,
   "metadata": {},
   "outputs": [
    {
     "name": "stdout",
     "output_type": "stream",
     "text": [
      "Total number of gap year students: 71\n"
     ]
    },
    {
     "name": "stderr",
     "output_type": "stream",
     "text": [
      "C:\\Users\\DELL\\AppData\\Local\\Temp\\ipykernel_12464\\3053643059.py:2: UserWarning: Boolean Series key will be reindexed to match DataFrame index.\n",
      "  gap = students[students[\"Are you currently enrolled at a Senior High School (SHS)?\"]==\"No\"][students[\"Are you currently enrolled at a university?\"] == \"No\"]\n"
     ]
    }
   ],
   "source": [
    "# extract all gap year students\n",
    "gap = students[students[\"Are you currently enrolled at a Senior High School (SHS)?\"]==\"No\"][students[\"Are you currently enrolled at a university?\"] == \"No\"]\n",
    "n_gap = gap.shape[0]\n",
    "print(\"Total number of gap year students:\", n_gap)"
   ]
  },
  {
   "cell_type": "code",
   "execution_count": 30,
   "metadata": {},
   "outputs": [
    {
     "name": "stdout",
     "output_type": "stream",
     "text": [
      "n_students: 370\n",
      "Total: 370\n"
     ]
    }
   ],
   "source": [
    "# verify total\n",
    "total = n_gap + n_univ + n_shs\n",
    "\n",
    "print(\"n_students:\", n_students)\n",
    "print(\"Total:\", total)  # should equal n_students"
   ]
  },
  {
   "cell_type": "code",
   "execution_count": 75,
   "metadata": {},
   "outputs": [
    {
     "name": "stdout",
     "output_type": "stream",
     "text": [
      "Total number of KNUST students: 209\n",
      "Total number of Legon students: 22\n",
      "Total number of Other university students: 45\n",
      "\n",
      "Total number of university students: 276\n",
      "Combined total: 276\n"
     ]
    }
   ],
   "source": [
    "# Grouping university students (knust, legon, other)\n",
    "knust_terms = [\"knust\", \"kwame nkrumah university of science and technology\", \"kwame\", \"nkrumah\"]\n",
    "legon_terms = [\"legon\", \"university of ghana\"]\n",
    "knust = pd.DataFrame(columns=univ.columns)\n",
    "legon = pd.DataFrame(columns=univ.columns)\n",
    "other = pd.DataFrame(columns=univ.columns)\n",
    "added_rows = []\n",
    "\n",
    "# group knust\n",
    "for row in univ.index:\n",
    "    for term in knust_terms:\n",
    "        if term in univ.loc[row][\"At which university are you currently enrolled?\"].lower():\n",
    "            knust.loc[len(knust)] = univ.loc[row]\n",
    "            added_rows.append(row)\n",
    "            break\n",
    "        \n",
    "# group legon\n",
    "for row in univ.index:\n",
    "    if row not in added_rows:\n",
    "        for term in legon_terms:\n",
    "            if term in univ.loc[row][\"At which university are you currently enrolled?\"].lower():\n",
    "                legon.loc[len(legon)] = univ.loc[row]\n",
    "                added_rows.append(row)\n",
    "                break\n",
    "\n",
    "# group other\n",
    "for row in univ.index:\n",
    "    if row not in added_rows:\n",
    "        other.loc[len(other)] = univ.loc[row]\n",
    "    \n",
    "\n",
    "\n",
    "# check totals\n",
    "n_knust = len(knust)\n",
    "n_legon = len(legon)\n",
    "n_other = len(other)\n",
    "\n",
    "print(\"Total number of KNUST students:\", n_knust)\n",
    "print(\"Total number of Legon students:\", n_legon)\n",
    "print(\"Total number of Other university students:\", n_other, end=\"\\n\\n\")\n",
    "\n",
    "print(\"Total number of university students:\", n_univ)\n",
    "print(\"Combined total:\", n_knust + n_legon + n_other)  # must match n_univ\n"
   ]
  },
  {
   "cell_type": "code",
   "execution_count": 77,
   "metadata": {},
   "outputs": [
    {
     "name": "stdout",
     "output_type": "stream",
     "text": [
      "71\n",
      "Agona Swedru, Central Region, Ghana \n",
      "Accra, Greater Accra Region, Ghana\n",
      "Edumfa, Central Region, Ghana\n",
      "Agona Swedru ,Central region ,Ghana\n",
      "Effiduasi, Ashanti Region, Ghana \n",
      "Maakro, Ashanti Region,Ghana\n",
      "Maakra, Ashanti Region, Ghana\n",
      "Tema\n",
      "Kumasi, Ashanti Region, Ghana\n",
      "Ashaiman, Greater Accra Region,  Ghana. \n",
      "Assin Fosu\n",
      "Ashiaman,Greater Accra Region,Ghana \n",
      "KUMASI \n",
      "Ho, Volta region, Ghana \n",
      "Tema,Greater Accra,Ghana\n",
      "KOFORIDUA,Eastern Region, Ghana\n",
      "Amasaman, Accra, Ghana \n",
      "Kwadaso, Ashanti Region, Ghana\n",
      "Dome,Greater Accra,Ghana\n",
      "Sunyani, Bono Region, Ghana\n",
      "Koforidua, Eastern Region, Ghana.\n",
      "Ashongman,Accra,Ghana\n",
      "Takoradi, Western Region, Ghana\n",
      "Kumasi, Ashanti Region, Ghana\n",
      "Kumasi,Ashanti Region,Ghana\n",
      "Osu, Greater Accra Region, Ghana \n",
      "Tema, G. Accra, Ghana. \n",
      "Accra, Greater Accra Region, Ghana \n",
      "Obuasi, Ashanti Region, Ghana\n",
      "Kasoa, Central Region, Ghana\n",
      "Kumasi, Ashanti Region, Ghana\n",
      "Kumasi, Ashanti Region, Ghana \n",
      "Pantang, Greater Accra Region, Ghana\n",
      "Eastern Region\n",
      "Lapaz, Greater Accra Region,Ghana.\n",
      "Kumasi, Ashanti Region, Ghana.\n",
      "Kasoa, Central Region, Ghana.\n",
      "Kumasi\n",
      "Kumasi\n",
      "Ejisu,Ashanti Region, Ghana \n",
      "Tarkwa \n",
      "Ashanti Region\n",
      "Dormaa,Bono Region,Ghana\n",
      "Dansoman, Greater Accra Region,Ghana\n",
      "Kasoa\n",
      "Hohoe, Volta Region, Ghana \n",
      "Greater Accra \n",
      "Greater Accra \n",
      "Tema, Greater Accra, Ghana\n",
      "Tarkwa, Western Region\n",
      "Kade, Eastern Region, Ghana\n",
      "Santoe, Greater Accra Region, Ghana \n",
      "Santoe, Greater Accra Region, Ghana \n",
      "Accra, Greater Accra, Ghana \n",
      "Maakro\n",
      "Ofankor, Greater Accra Region, Ghana\n",
      "Kumasi, Ashanti, Ghana. \n",
      "Kumasi, Ashanti Region, Ghana \n",
      "Ashaiman, Greater Accra region, Ghana\n",
      "Sunyani, Bono region, Ghana\n",
      "Accra, Greater Accra Region, Ghana.\n",
      "Kumasi, Ashanti region, Ghana\n",
      "Klagon, Greater Accra region Ghana\n",
      "Ashiaman \n",
      "Kumasi, Ashanti Region, Ghana.\n",
      "Kumasi, Ashanti Region, Ghana\n",
      "Assin Fosu\n",
      "Accra,Greater Accra Region,Ghana\n",
      "Tema \n",
      "Tema, Greater Accra Region \n",
      "Ashongman,Accra,Ghana\n"
     ]
    }
   ],
   "source": [
    "# group gap year students (kumasi, accra, other)\n",
    "print(n_gap)\n",
    "for row in gap.index:\n",
    "    print(gap.loc[row][\"Where do you currently live?\"])"
   ]
  }
 ],
 "metadata": {
  "kernelspec": {
   "display_name": ".venv",
   "language": "python",
   "name": "python3"
  },
  "language_info": {
   "codemirror_mode": {
    "name": "ipython",
    "version": 3
   },
   "file_extension": ".py",
   "mimetype": "text/x-python",
   "name": "python",
   "nbconvert_exporter": "python",
   "pygments_lexer": "ipython3",
   "version": "3.11.3"
  },
  "orig_nbformat": 4
 },
 "nbformat": 4,
 "nbformat_minor": 2
}
